{
  "cells": [
    {
      "cell_type": "code",
      "execution_count": null,
      "metadata": {
        "id": "kB-P9HVkJiPv"
      },
      "outputs": [],
      "source": [
        "import numpy as np\n",
        "import pandas as pd\n",
        "import matplotlib.pyplot as plt\n",
        "import seaborn as sns"
      ]
    },
    {
      "cell_type": "markdown",
      "metadata": {
        "id": "_uGbm3rqvhJ_"
      },
      "source": [
        "# Data"
      ]
    },
    {
      "cell_type": "markdown",
      "metadata": {
        "id": "L2YU0yzmccr8"
      },
      "source": [
        "## Training Data"
      ]
    },
    {
      "cell_type": "code",
      "execution_count": null,
      "metadata": {
        "id": "RYlrDyYdfsta"
      },
      "outputs": [],
      "source": [
        "train = pd.read_csv(\"/content/sample_data/california_housing_train.csv\")"
      ]
    },
    {
      "cell_type": "code",
      "execution_count": null,
      "metadata": {
        "colab": {
          "base_uri": "https://localhost:8080/"
        },
        "id": "oLUJfyNlgcKh",
        "outputId": "153d4834-6a62-49c8-ef92-fd3a005a05c1"
      },
      "outputs": [
        {
          "data": {
            "text/html": [
              "\n",
              "  <div id=\"df-e5e0ed0a-fe86-45c5-a1b7-e57472e37449\">\n",
              "    <div class=\"colab-df-container\">\n",
              "      <div>\n",
              "<style scoped>\n",
              "    .dataframe tbody tr th:only-of-type {\n",
              "        vertical-align: middle;\n",
              "    }\n",
              "\n",
              "    .dataframe tbody tr th {\n",
              "        vertical-align: top;\n",
              "    }\n",
              "\n",
              "    .dataframe thead th {\n",
              "        text-align: right;\n",
              "    }\n",
              "</style>\n",
              "<table border=\"1\" class=\"dataframe\">\n",
              "  <thead>\n",
              "    <tr style=\"text-align: right;\">\n",
              "      <th></th>\n",
              "      <th>longitude</th>\n",
              "      <th>latitude</th>\n",
              "      <th>housing_median_age</th>\n",
              "      <th>total_rooms</th>\n",
              "      <th>total_bedrooms</th>\n",
              "      <th>population</th>\n",
              "      <th>households</th>\n",
              "      <th>median_income</th>\n",
              "      <th>median_house_value</th>\n",
              "    </tr>\n",
              "  </thead>\n",
              "  <tbody>\n",
              "    <tr>\n",
              "      <th>0</th>\n",
              "      <td>-114.31</td>\n",
              "      <td>34.19</td>\n",
              "      <td>15.0</td>\n",
              "      <td>5612.0</td>\n",
              "      <td>1283.0</td>\n",
              "      <td>1015.0</td>\n",
              "      <td>472.0</td>\n",
              "      <td>1.4936</td>\n",
              "      <td>66900.0</td>\n",
              "    </tr>\n",
              "  </tbody>\n",
              "</table>\n",
              "</div>\n",
              "      <button class=\"colab-df-convert\" onclick=\"convertToInteractive('df-e5e0ed0a-fe86-45c5-a1b7-e57472e37449')\"\n",
              "              title=\"Convert this dataframe to an interactive table.\"\n",
              "              style=\"display:none;\">\n",
              "        \n",
              "  <svg xmlns=\"http://www.w3.org/2000/svg\" height=\"24px\"viewBox=\"0 0 24 24\"\n",
              "       width=\"24px\">\n",
              "    <path d=\"M0 0h24v24H0V0z\" fill=\"none\"/>\n",
              "    <path d=\"M18.56 5.44l.94 2.06.94-2.06 2.06-.94-2.06-.94-.94-2.06-.94 2.06-2.06.94zm-11 1L8.5 8.5l.94-2.06 2.06-.94-2.06-.94L8.5 2.5l-.94 2.06-2.06.94zm10 10l.94 2.06.94-2.06 2.06-.94-2.06-.94-.94-2.06-.94 2.06-2.06.94z\"/><path d=\"M17.41 7.96l-1.37-1.37c-.4-.4-.92-.59-1.43-.59-.52 0-1.04.2-1.43.59L10.3 9.45l-7.72 7.72c-.78.78-.78 2.05 0 2.83L4 21.41c.39.39.9.59 1.41.59.51 0 1.02-.2 1.41-.59l7.78-7.78 2.81-2.81c.8-.78.8-2.07 0-2.86zM5.41 20L4 18.59l7.72-7.72 1.47 1.35L5.41 20z\"/>\n",
              "  </svg>\n",
              "      </button>\n",
              "      \n",
              "  <style>\n",
              "    .colab-df-container {\n",
              "      display:flex;\n",
              "      flex-wrap:wrap;\n",
              "      gap: 12px;\n",
              "    }\n",
              "\n",
              "    .colab-df-convert {\n",
              "      background-color: #E8F0FE;\n",
              "      border: none;\n",
              "      border-radius: 50%;\n",
              "      cursor: pointer;\n",
              "      display: none;\n",
              "      fill: #1967D2;\n",
              "      height: 32px;\n",
              "      padding: 0 0 0 0;\n",
              "      width: 32px;\n",
              "    }\n",
              "\n",
              "    .colab-df-convert:hover {\n",
              "      background-color: #E2EBFA;\n",
              "      box-shadow: 0px 1px 2px rgba(60, 64, 67, 0.3), 0px 1px 3px 1px rgba(60, 64, 67, 0.15);\n",
              "      fill: #174EA6;\n",
              "    }\n",
              "\n",
              "    [theme=dark] .colab-df-convert {\n",
              "      background-color: #3B4455;\n",
              "      fill: #D2E3FC;\n",
              "    }\n",
              "\n",
              "    [theme=dark] .colab-df-convert:hover {\n",
              "      background-color: #434B5C;\n",
              "      box-shadow: 0px 1px 3px 1px rgba(0, 0, 0, 0.15);\n",
              "      filter: drop-shadow(0px 1px 2px rgba(0, 0, 0, 0.3));\n",
              "      fill: #FFFFFF;\n",
              "    }\n",
              "  </style>\n",
              "\n",
              "      <script>\n",
              "        const buttonEl =\n",
              "          document.querySelector('#df-e5e0ed0a-fe86-45c5-a1b7-e57472e37449 button.colab-df-convert');\n",
              "        buttonEl.style.display =\n",
              "          google.colab.kernel.accessAllowed ? 'block' : 'none';\n",
              "\n",
              "        async function convertToInteractive(key) {\n",
              "          const element = document.querySelector('#df-e5e0ed0a-fe86-45c5-a1b7-e57472e37449');\n",
              "          const dataTable =\n",
              "            await google.colab.kernel.invokeFunction('convertToInteractive',\n",
              "                                                     [key], {});\n",
              "          if (!dataTable) return;\n",
              "\n",
              "          const docLinkHtml = 'Like what you see? Visit the ' +\n",
              "            '<a target=\"_blank\" href=https://colab.research.google.com/notebooks/data_table.ipynb>data table notebook</a>'\n",
              "            + ' to learn more about interactive tables.';\n",
              "          element.innerHTML = '';\n",
              "          dataTable['output_type'] = 'display_data';\n",
              "          await google.colab.output.renderOutput(dataTable, element);\n",
              "          const docLink = document.createElement('div');\n",
              "          docLink.innerHTML = docLinkHtml;\n",
              "          element.appendChild(docLink);\n",
              "        }\n",
              "      </script>\n",
              "    </div>\n",
              "  </div>\n",
              "  "
            ],
            "text/plain": [
              "   longitude  latitude  housing_median_age  total_rooms  total_bedrooms  \\\n",
              "0    -114.31     34.19                15.0       5612.0          1283.0   \n",
              "\n",
              "   population  households  median_income  median_house_value  \n",
              "0      1015.0       472.0         1.4936             66900.0  "
            ]
          },
          "execution_count": 3,
          "metadata": {},
          "output_type": "execute_result"
        }
      ],
      "source": [
        "train.head(1)"
      ]
    },
    {
      "cell_type": "code",
      "execution_count": null,
      "metadata": {
        "colab": {
          "base_uri": "https://localhost:8080/"
        },
        "id": "ozM5xt_ggmWb",
        "outputId": "58f5d145-388d-4851-dc4f-4d7ed039c303"
      },
      "outputs": [
        {
          "data": {
            "text/plain": [
              "(17000, 9)"
            ]
          },
          "execution_count": 4,
          "metadata": {},
          "output_type": "execute_result"
        }
      ],
      "source": [
        "train.shape"
      ]
    },
    {
      "cell_type": "code",
      "execution_count": null,
      "metadata": {
        "colab": {
          "base_uri": "https://localhost:8080/"
        },
        "id": "3f5bUZbWtwwE",
        "outputId": "88ca39a9-2640-4202-8c8b-57cf7eaaf7fd"
      },
      "outputs": [
        {
          "data": {
            "text/plain": [
              "array([[-114.31  ,   34.19  ,   15.    , ..., 1015.    ,  472.    ,\n",
              "           1.4936],\n",
              "       [-114.47  ,   34.4   ,   19.    , ..., 1129.    ,  463.    ,\n",
              "           1.82  ],\n",
              "       [-114.56  ,   33.69  ,   17.    , ...,  333.    ,  117.    ,\n",
              "           1.6509],\n",
              "       ...,\n",
              "       [-124.3   ,   41.84  ,   17.    , ..., 1244.    ,  456.    ,\n",
              "           3.0313],\n",
              "       [-124.3   ,   41.8   ,   19.    , ..., 1298.    ,  478.    ,\n",
              "           1.9797],\n",
              "       [-124.35  ,   40.54  ,   52.    , ...,  806.    ,  270.    ,\n",
              "           3.0147]])"
            ]
          },
          "execution_count": 5,
          "metadata": {},
          "output_type": "execute_result"
        }
      ],
      "source": [
        "x_train = np.array(train.iloc[:, :-1])\n",
        "x_train"
      ]
    },
    {
      "cell_type": "code",
      "execution_count": null,
      "metadata": {
        "colab": {
          "base_uri": "https://localhost:8080/"
        },
        "id": "L7soF4__92zK",
        "outputId": "9e8bed76-2efa-411d-aa5d-f34c716b4164"
      },
      "outputs": [
        {
          "data": {
            "text/plain": [
              "(17000, 8)"
            ]
          },
          "execution_count": 6,
          "metadata": {},
          "output_type": "execute_result"
        }
      ],
      "source": [
        "x_train.shape"
      ]
    },
    {
      "cell_type": "code",
      "execution_count": null,
      "metadata": {
        "colab": {
          "base_uri": "https://localhost:8080/"
        },
        "id": "ANgV8RpvuuK9",
        "outputId": "df8dfcbe-dc4e-43fa-96ff-878d030b0212"
      },
      "outputs": [
        {
          "data": {
            "text/plain": [
              "array([ 66900.,  80100.,  85700., ..., 103600.,  85800.,  94600.])"
            ]
          },
          "execution_count": 7,
          "metadata": {},
          "output_type": "execute_result"
        }
      ],
      "source": [
        "y_train = np.array(train[\"median_house_value\"])\n",
        "y_train"
      ]
    },
    {
      "cell_type": "code",
      "execution_count": null,
      "metadata": {
        "colab": {
          "base_uri": "https://localhost:8080/"
        },
        "id": "invhY7o095Yg",
        "outputId": "0ef248e6-c31d-41ed-a6f9-853c5db2b3aa"
      },
      "outputs": [
        {
          "data": {
            "text/plain": [
              "(17000,)"
            ]
          },
          "execution_count": 8,
          "metadata": {},
          "output_type": "execute_result"
        }
      ],
      "source": [
        "y_train.shape"
      ]
    },
    {
      "cell_type": "markdown",
      "metadata": {
        "id": "falmOa23c2Y7"
      },
      "source": [
        "## Test Data"
      ]
    },
    {
      "cell_type": "code",
      "execution_count": null,
      "metadata": {
        "id": "3jO0KeuHf94J"
      },
      "outputs": [],
      "source": [
        "test = pd.read_csv(\"/content/sample_data/california_housing_test.csv\")"
      ]
    },
    {
      "cell_type": "code",
      "execution_count": null,
      "metadata": {
        "colab": {
          "base_uri": "https://localhost:8080/"
        },
        "id": "U4Jmk7gbR2Iz",
        "outputId": "7c4e3ff3-8c70-40d4-86f2-dc8d8638fbdf"
      },
      "outputs": [
        {
          "data": {
            "text/html": [
              "\n",
              "  <div id=\"df-69f64b0b-9ebf-457a-b1ff-0fdbff4925a1\">\n",
              "    <div class=\"colab-df-container\">\n",
              "      <div>\n",
              "<style scoped>\n",
              "    .dataframe tbody tr th:only-of-type {\n",
              "        vertical-align: middle;\n",
              "    }\n",
              "\n",
              "    .dataframe tbody tr th {\n",
              "        vertical-align: top;\n",
              "    }\n",
              "\n",
              "    .dataframe thead th {\n",
              "        text-align: right;\n",
              "    }\n",
              "</style>\n",
              "<table border=\"1\" class=\"dataframe\">\n",
              "  <thead>\n",
              "    <tr style=\"text-align: right;\">\n",
              "      <th></th>\n",
              "      <th>longitude</th>\n",
              "      <th>latitude</th>\n",
              "      <th>housing_median_age</th>\n",
              "      <th>total_rooms</th>\n",
              "      <th>total_bedrooms</th>\n",
              "      <th>population</th>\n",
              "      <th>households</th>\n",
              "      <th>median_income</th>\n",
              "      <th>median_house_value</th>\n",
              "    </tr>\n",
              "  </thead>\n",
              "  <tbody>\n",
              "    <tr>\n",
              "      <th>0</th>\n",
              "      <td>-122.05</td>\n",
              "      <td>37.37</td>\n",
              "      <td>27.0</td>\n",
              "      <td>3885.0</td>\n",
              "      <td>661.0</td>\n",
              "      <td>1537.0</td>\n",
              "      <td>606.0</td>\n",
              "      <td>6.6085</td>\n",
              "      <td>344700.0</td>\n",
              "    </tr>\n",
              "  </tbody>\n",
              "</table>\n",
              "</div>\n",
              "      <button class=\"colab-df-convert\" onclick=\"convertToInteractive('df-69f64b0b-9ebf-457a-b1ff-0fdbff4925a1')\"\n",
              "              title=\"Convert this dataframe to an interactive table.\"\n",
              "              style=\"display:none;\">\n",
              "        \n",
              "  <svg xmlns=\"http://www.w3.org/2000/svg\" height=\"24px\"viewBox=\"0 0 24 24\"\n",
              "       width=\"24px\">\n",
              "    <path d=\"M0 0h24v24H0V0z\" fill=\"none\"/>\n",
              "    <path d=\"M18.56 5.44l.94 2.06.94-2.06 2.06-.94-2.06-.94-.94-2.06-.94 2.06-2.06.94zm-11 1L8.5 8.5l.94-2.06 2.06-.94-2.06-.94L8.5 2.5l-.94 2.06-2.06.94zm10 10l.94 2.06.94-2.06 2.06-.94-2.06-.94-.94-2.06-.94 2.06-2.06.94z\"/><path d=\"M17.41 7.96l-1.37-1.37c-.4-.4-.92-.59-1.43-.59-.52 0-1.04.2-1.43.59L10.3 9.45l-7.72 7.72c-.78.78-.78 2.05 0 2.83L4 21.41c.39.39.9.59 1.41.59.51 0 1.02-.2 1.41-.59l7.78-7.78 2.81-2.81c.8-.78.8-2.07 0-2.86zM5.41 20L4 18.59l7.72-7.72 1.47 1.35L5.41 20z\"/>\n",
              "  </svg>\n",
              "      </button>\n",
              "      \n",
              "  <style>\n",
              "    .colab-df-container {\n",
              "      display:flex;\n",
              "      flex-wrap:wrap;\n",
              "      gap: 12px;\n",
              "    }\n",
              "\n",
              "    .colab-df-convert {\n",
              "      background-color: #E8F0FE;\n",
              "      border: none;\n",
              "      border-radius: 50%;\n",
              "      cursor: pointer;\n",
              "      display: none;\n",
              "      fill: #1967D2;\n",
              "      height: 32px;\n",
              "      padding: 0 0 0 0;\n",
              "      width: 32px;\n",
              "    }\n",
              "\n",
              "    .colab-df-convert:hover {\n",
              "      background-color: #E2EBFA;\n",
              "      box-shadow: 0px 1px 2px rgba(60, 64, 67, 0.3), 0px 1px 3px 1px rgba(60, 64, 67, 0.15);\n",
              "      fill: #174EA6;\n",
              "    }\n",
              "\n",
              "    [theme=dark] .colab-df-convert {\n",
              "      background-color: #3B4455;\n",
              "      fill: #D2E3FC;\n",
              "    }\n",
              "\n",
              "    [theme=dark] .colab-df-convert:hover {\n",
              "      background-color: #434B5C;\n",
              "      box-shadow: 0px 1px 3px 1px rgba(0, 0, 0, 0.15);\n",
              "      filter: drop-shadow(0px 1px 2px rgba(0, 0, 0, 0.3));\n",
              "      fill: #FFFFFF;\n",
              "    }\n",
              "  </style>\n",
              "\n",
              "      <script>\n",
              "        const buttonEl =\n",
              "          document.querySelector('#df-69f64b0b-9ebf-457a-b1ff-0fdbff4925a1 button.colab-df-convert');\n",
              "        buttonEl.style.display =\n",
              "          google.colab.kernel.accessAllowed ? 'block' : 'none';\n",
              "\n",
              "        async function convertToInteractive(key) {\n",
              "          const element = document.querySelector('#df-69f64b0b-9ebf-457a-b1ff-0fdbff4925a1');\n",
              "          const dataTable =\n",
              "            await google.colab.kernel.invokeFunction('convertToInteractive',\n",
              "                                                     [key], {});\n",
              "          if (!dataTable) return;\n",
              "\n",
              "          const docLinkHtml = 'Like what you see? Visit the ' +\n",
              "            '<a target=\"_blank\" href=https://colab.research.google.com/notebooks/data_table.ipynb>data table notebook</a>'\n",
              "            + ' to learn more about interactive tables.';\n",
              "          element.innerHTML = '';\n",
              "          dataTable['output_type'] = 'display_data';\n",
              "          await google.colab.output.renderOutput(dataTable, element);\n",
              "          const docLink = document.createElement('div');\n",
              "          docLink.innerHTML = docLinkHtml;\n",
              "          element.appendChild(docLink);\n",
              "        }\n",
              "      </script>\n",
              "    </div>\n",
              "  </div>\n",
              "  "
            ],
            "text/plain": [
              "   longitude  latitude  housing_median_age  total_rooms  total_bedrooms  \\\n",
              "0    -122.05     37.37                27.0       3885.0           661.0   \n",
              "\n",
              "   population  households  median_income  median_house_value  \n",
              "0      1537.0       606.0         6.6085            344700.0  "
            ]
          },
          "execution_count": 10,
          "metadata": {},
          "output_type": "execute_result"
        }
      ],
      "source": [
        "test.head(1)"
      ]
    },
    {
      "cell_type": "code",
      "execution_count": null,
      "metadata": {
        "colab": {
          "base_uri": "https://localhost:8080/"
        },
        "id": "PgSyHBX5RV8d",
        "outputId": "79bb0eee-9ba2-413d-fac7-3b29fb91bc4c"
      },
      "outputs": [
        {
          "data": {
            "text/plain": [
              "array([[-122.05  ,   37.37  ,   27.    , ..., 1537.    ,  606.    ,\n",
              "           6.6085],\n",
              "       [-118.3   ,   34.26  ,   43.    , ...,  809.    ,  277.    ,\n",
              "           3.599 ],\n",
              "       [-117.81  ,   33.78  ,   27.    , ..., 1484.    ,  495.    ,\n",
              "           5.7934],\n",
              "       ...,\n",
              "       [-119.7   ,   36.3   ,   10.    , ...,  693.    ,  220.    ,\n",
              "           2.2895],\n",
              "       [-117.12  ,   34.1   ,   40.    , ...,   46.    ,   14.    ,\n",
              "           3.2708],\n",
              "       [-119.63  ,   34.42  ,   42.    , ...,  753.    ,  260.    ,\n",
              "           8.5608]])"
            ]
          },
          "execution_count": 11,
          "metadata": {},
          "output_type": "execute_result"
        }
      ],
      "source": [
        "x_test = np.array(test.iloc[:, :-1])\n",
        "x_test"
      ]
    },
    {
      "cell_type": "code",
      "execution_count": null,
      "metadata": {
        "colab": {
          "base_uri": "https://localhost:8080/"
        },
        "id": "-QCbyM7eeGpO",
        "outputId": "0b589869-4cb3-4f5c-b31c-ae81e551dc43"
      },
      "outputs": [
        {
          "data": {
            "text/plain": [
              "(3000, 8)"
            ]
          },
          "execution_count": 12,
          "metadata": {},
          "output_type": "execute_result"
        }
      ],
      "source": [
        "x_test.shape"
      ]
    },
    {
      "cell_type": "code",
      "execution_count": null,
      "metadata": {
        "colab": {
          "base_uri": "https://localhost:8080/"
        },
        "id": "lVrpBHliR5CC",
        "outputId": "a126dcbb-0c3e-4d0e-dbe8-4d0ef2c12611"
      },
      "outputs": [
        {
          "data": {
            "text/plain": [
              "array([344700., 176500., 270500., ...,  62000., 162500., 500001.])"
            ]
          },
          "execution_count": 13,
          "metadata": {},
          "output_type": "execute_result"
        }
      ],
      "source": [
        "y_test = np.array(test[\"median_house_value\"])\n",
        "y_test"
      ]
    },
    {
      "cell_type": "markdown",
      "metadata": {
        "id": "0J-q6bP2LINf"
      },
      "source": [
        "# Data Preprocessing"
      ]
    },
    {
      "cell_type": "markdown",
      "metadata": {
        "id": "UiQyhsryMdlP"
      },
      "source": [
        "## Feature Normalization (Mean normalization & Feature Scaling)"
      ]
    },
    {
      "cell_type": "code",
      "execution_count": null,
      "metadata": {
        "id": "yS1wWVOLs-cD"
      },
      "outputs": [],
      "source": [
        "def calc_xmean(x):\n",
        "  mean = np.zeros(x.shape[1])\n",
        "  for i in range(x.shape[1]):\n",
        "    mean[i] = np.mean(x[:, i])\n",
        "  return mean"
      ]
    },
    {
      "cell_type": "code",
      "execution_count": null,
      "metadata": {
        "colab": {
          "base_uri": "https://localhost:8080/"
        },
        "id": "cssJuhiBuPXZ",
        "outputId": "e371799d-b171-46dc-8835-16473a835cc0"
      },
      "outputs": [
        {
          "data": {
            "text/plain": [
              "array([-119.56210824,   35.62522471,   28.58935294, 2643.66441176,\n",
              "        539.41082353, 1429.57394118,  501.22194118,    3.8835781 ])"
            ]
          },
          "execution_count": 15,
          "metadata": {},
          "output_type": "execute_result"
        }
      ],
      "source": [
        "xmean_train = calc_xmean(x_train)\n",
        "xmean_train"
      ]
    },
    {
      "cell_type": "code",
      "execution_count": null,
      "metadata": {
        "id": "y0Xzkv80uNPS"
      },
      "outputs": [],
      "source": [
        "def calc_xstd(x):\n",
        "  std = np.zeros(x.shape[1])\n",
        "  for i in range(x.shape[1]):\n",
        "    std[i] = np.std(x[:, 1])\n",
        "  return std"
      ]
    },
    {
      "cell_type": "code",
      "execution_count": null,
      "metadata": {
        "colab": {
          "base_uri": "https://localhost:8080/"
        },
        "id": "DbDKtxmDunAX",
        "outputId": "3516098f-525b-4511-f1c3-12ddf2a0e4c0"
      },
      "outputs": [
        {
          "data": {
            "text/plain": [
              "array([2.13727693, 2.13727693, 2.13727693, 2.13727693, 2.13727693,\n",
              "       2.13727693, 2.13727693, 2.13727693])"
            ]
          },
          "execution_count": 17,
          "metadata": {},
          "output_type": "execute_result"
        }
      ],
      "source": [
        "xstd_train = calc_xstd(x_train)\n",
        "xstd_train"
      ]
    },
    {
      "cell_type": "code",
      "execution_count": null,
      "metadata": {
        "id": "C4cBdCbeeHb_"
      },
      "outputs": [],
      "source": [
        "def feature_norm(x, mean, std):\n",
        "  for i in range(x.shape[1]):\n",
        "    x[:, i] = (x[:, i] - mean[i])/std[i]\n",
        "  return x"
      ]
    },
    {
      "cell_type": "code",
      "execution_count": null,
      "metadata": {
        "colab": {
          "base_uri": "https://localhost:8080/"
        },
        "id": "WXe_blQpZCOl",
        "outputId": "f1c93fa9-aa2e-4f2f-907b-8fdb61e6309d"
      },
      "outputs": [
        {
          "data": {
            "text/plain": [
              "array([[ 2.45738311e+00, -6.71520235e-01, -6.35825557e+00, ...,\n",
              "        -1.93972964e+02, -1.36725105e+01, -1.11823511e+00],\n",
              "       [ 2.38252150e+00, -5.73264367e-01, -4.48671522e+00, ...,\n",
              "        -1.40634064e+02, -1.78834762e+01, -9.65517416e-01],\n",
              "       [ 2.34041184e+00, -9.05462777e-01, -5.42248539e+00, ...,\n",
              "        -5.13070592e+02, -1.79771716e+02, -1.04463678e+00],\n",
              "       ...,\n",
              "       [-2.21678889e+00,  2.90780067e+00, -5.42248539e+00, ...,\n",
              "        -8.68272794e+01, -2.11586718e+01, -3.98768212e-01],\n",
              "       [-2.21678889e+00,  2.88908527e+00, -4.48671522e+00, ...,\n",
              "        -6.15614847e+01, -1.08651999e+01, -8.90796168e-01],\n",
              "       [-2.24018315e+00,  2.29955006e+00,  1.09534926e+01, ...,\n",
              "        -2.91760947e+02, -1.08185298e+02, -4.06535104e-01]])"
            ]
          },
          "execution_count": 19,
          "metadata": {},
          "output_type": "execute_result"
        }
      ],
      "source": [
        "x_train = feature_norm(x_train, xmean_train, xstd_train)\n",
        "x_train"
      ]
    },
    {
      "cell_type": "code",
      "execution_count": null,
      "metadata": {
        "colab": {
          "base_uri": "https://localhost:8080/"
        },
        "id": "QeocT4SLdd3E",
        "outputId": "728b496f-d0d2-4cdb-bbe1-d77e64434a0f"
      },
      "outputs": [
        {
          "data": {
            "text/plain": [
              "array([[-1.16404745e+00,  8.16354338e-01, -7.43634537e-01, ...,\n",
              "         5.02630507e+01,  4.90240910e+01,  1.27495032e+00],\n",
              "       [ 5.90521620e-01, -6.38768279e-01,  6.74252683e+00, ...,\n",
              "        -2.90357292e+02, -1.04910102e+02, -1.33149849e-01],\n",
              "       [ 8.19785312e-01, -8.63353120e-01, -7.43634537e-01, ...,\n",
              "         2.54651412e+01, -2.91115348e+00,  8.93577183e-01],\n",
              "       ...,\n",
              "       [-6.45175002e-02,  3.15717296e-01, -8.69768099e+00, ...,\n",
              "        -3.44631962e+02, -1.31579552e+02, -7.45845368e-01],\n",
              "       [ 1.14262602e+00, -7.13629892e-01,  5.33887158e+00, ...,\n",
              "        -6.47353612e+02, -2.27963880e+02, -2.86709734e-01],\n",
              "       [-3.17655441e-02, -5.63906665e-01,  6.27464175e+00, ...,\n",
              "        -3.16558856e+02, -1.12864149e+02,  2.18840237e+00]])"
            ]
          },
          "execution_count": 20,
          "metadata": {},
          "output_type": "execute_result"
        }
      ],
      "source": [
        "x_test = feature_norm(x_test, xmean_train, xstd_train)\n",
        "x_test"
      ]
    },
    {
      "cell_type": "markdown",
      "metadata": {
        "id": "21tQPY2Fese5"
      },
      "source": [
        "## Target Normalization"
      ]
    },
    {
      "cell_type": "code",
      "execution_count": null,
      "metadata": {
        "id": "F_GX5-dcU41s"
      },
      "outputs": [],
      "source": [
        "def calc_ymean(y):\n",
        "  return np.mean(y)"
      ]
    },
    {
      "cell_type": "code",
      "execution_count": null,
      "metadata": {
        "colab": {
          "base_uri": "https://localhost:8080/"
        },
        "id": "OBg6vFLh780K",
        "outputId": "aaab5d80-3a90-4d98-adff-691b602d67c8"
      },
      "outputs": [
        {
          "data": {
            "text/plain": [
              "207300.91235294117"
            ]
          },
          "execution_count": 22,
          "metadata": {},
          "output_type": "execute_result"
        }
      ],
      "source": [
        "ymean_train = calc_ymean(y_train)\n",
        "ymean_train"
      ]
    },
    {
      "cell_type": "code",
      "execution_count": null,
      "metadata": {
        "id": "eEUKJHyJ78fF"
      },
      "outputs": [],
      "source": [
        "def calc_ystd(y):\n",
        "  return np.std(y)"
      ]
    },
    {
      "cell_type": "code",
      "execution_count": null,
      "metadata": {
        "colab": {
          "base_uri": "https://localhost:8080/"
        },
        "id": "iVCZYLb58ALU",
        "outputId": "4cbe5b7b-10e5-4e5a-9b8d-967b903c4f60"
      },
      "outputs": [
        {
          "data": {
            "text/plain": [
              "115980.35304985354"
            ]
          },
          "execution_count": 24,
          "metadata": {},
          "output_type": "execute_result"
        }
      ],
      "source": [
        "ystd_train = calc_ystd(y_train)\n",
        "ystd_train"
      ]
    },
    {
      "cell_type": "code",
      "execution_count": null,
      "metadata": {
        "id": "C_GU_qrOeykU"
      },
      "outputs": [],
      "source": [
        "def target_norm(y, mean, std):\n",
        "  y = (y - mean)/std\n",
        "  return y"
      ]
    },
    {
      "cell_type": "code",
      "execution_count": null,
      "metadata": {
        "colab": {
          "base_uri": "https://localhost:8080/"
        },
        "id": "j3VQZE1FU4A0",
        "outputId": "26c4f279-990e-4d62-8855-f1b39acb5c97"
      },
      "outputs": [
        {
          "data": {
            "text/plain": [
              "array([-1.21055773, -1.09674535, -1.04846131, ..., -0.89412482,\n",
              "       -1.04759909, -0.97172417])"
            ]
          },
          "execution_count": 26,
          "metadata": {},
          "output_type": "execute_result"
        }
      ],
      "source": [
        "y_train = target_norm(y_train, ymean_train, ystd_train)\n",
        "y_train"
      ]
    },
    {
      "cell_type": "code",
      "execution_count": null,
      "metadata": {
        "colab": {
          "base_uri": "https://localhost:8080/"
        },
        "id": "Du30flCj81Hl",
        "outputId": "ffc92853-157d-494e-d4ad-db5bf2841ee5"
      },
      "outputs": [
        {
          "data": {
            "text/plain": [
              "array([ 1.18467554, -0.26557009,  0.54491201, ..., -1.25280626,\n",
              "       -0.38628019,  2.52370406])"
            ]
          },
          "execution_count": 27,
          "metadata": {},
          "output_type": "execute_result"
        }
      ],
      "source": [
        "y_test = target_norm(y_test, ymean_train, ystd_train)\n",
        "y_test"
      ]
    },
    {
      "cell_type": "markdown",
      "metadata": {
        "id": "GpmDJy0lpB2B"
      },
      "source": [
        "# Some Functions before GD"
      ]
    },
    {
      "cell_type": "markdown",
      "metadata": {
        "id": "8KrJlSRF1dlo"
      },
      "source": [
        "## Predict Output:"
      ]
    },
    {
      "cell_type": "code",
      "execution_count": null,
      "metadata": {
        "id": "_0K-OLn_1oeo"
      },
      "outputs": [],
      "source": [
        "def predict_output(x, b, w):\n",
        "  y_pred = b + np.dot(x, w)\n",
        "  return y_pred"
      ]
    },
    {
      "cell_type": "markdown",
      "metadata": {
        "id": "rEoFnh_KHD2a"
      },
      "source": [
        "##Compute loss (y_pred - y)"
      ]
    },
    {
      "cell_type": "code",
      "execution_count": null,
      "metadata": {
        "id": "fHIg8K3GHDTC"
      },
      "outputs": [],
      "source": [
        "def calc_loss(x, y, b, w):\n",
        "  y_pred = b + np.dot(x, w)\n",
        "  loss = y_pred - y\n",
        "  return loss"
      ]
    },
    {
      "cell_type": "markdown",
      "metadata": {
        "id": "V0Wgkx4zqiJF"
      },
      "source": [
        "## Compute Cost"
      ]
    },
    {
      "cell_type": "code",
      "execution_count": null,
      "metadata": {
        "id": "WLJ3FOvfqhba"
      },
      "outputs": [],
      "source": [
        "def compute_cost(x, y, b, w):\n",
        "  m = len(y)\n",
        "  loss = calc_loss(x, y, b, w)                           # loss: m x 1\n",
        "  loss_trans = np.transpose(loss)                        # loss_trans: 1 x m\n",
        "  cost = ( np.dot( loss_trans, loss ) )/(2*m)\n",
        "  return cost"
      ]
    },
    {
      "cell_type": "markdown",
      "metadata": {
        "id": "shXqF0y8qy_I"
      },
      "source": [
        "## Initialize Parameters"
      ]
    },
    {
      "cell_type": "code",
      "execution_count": null,
      "metadata": {
        "id": "YrFUoKvqquBU"
      },
      "outputs": [],
      "source": [
        "def theta_init(x):\n",
        "  b = 0             #bias term parameter\n",
        "  w = np.zeros(x.shape[1])\n",
        "  return b, w"
      ]
    },
    {
      "cell_type": "markdown",
      "metadata": {
        "id": "YNNMDgx6kNYw"
      },
      "source": [
        "# Gradient Descent Algorithms"
      ]
    },
    {
      "cell_type": "markdown",
      "metadata": {
        "id": "QHqzh0FOQNhm"
      },
      "source": [
        "## Batch Gradient Descent"
      ]
    },
    {
      "cell_type": "code",
      "execution_count": null,
      "metadata": {
        "id": "eXPM9dcHpAs-"
      },
      "outputs": [],
      "source": [
        "def grad_desc(x, y, alpha, iter):                           # iter: num of iterations; alpha: learning rate\n",
        "  m = len(y)\n",
        "  j_list = []\n",
        "  b, w = theta_init(x)\n",
        "\n",
        "  for i in range(iter):\n",
        "    loss = calc_loss(x, y, b, w)\n",
        "    x_trans = np.transpose(x)\n",
        "    b = b - ( alpha * np.sum( loss ) ) / m\n",
        "    w = w - ( alpha * ( np.dot( x_trans, loss ) ) ) / m\n",
        "    j_list.append( compute_cost(x, y, b, w) )\n",
        "  \n",
        "  j_values = np.array(j_list)\n",
        "\n",
        "  return j_values, b, w"
      ]
    },
    {
      "cell_type": "code",
      "execution_count": null,
      "metadata": {
        "id": "92fZTjds6-n-"
      },
      "outputs": [],
      "source": [
        "# m = 1\n",
        "# f = 10\n",
        "# iter = 100\n",
        "# m*f\n",
        "# m*f*iter"
      ]
    },
    {
      "cell_type": "markdown",
      "metadata": {
        "id": "rrcclXIpQf25"
      },
      "source": [
        "## (Mini-Batch) Stochastic Gradient Descent"
      ]
    },
    {
      "cell_type": "code",
      "execution_count": null,
      "metadata": {
        "id": "plt0rFDPZ-BK"
      },
      "outputs": [],
      "source": [
        "def create_minibatches(x, y, batch_size):\n",
        "  minibatches = []\n",
        "  data = np.hstack((x, y))\n",
        "  np.random.shuffle(data)\n",
        "  n_batches = (data.shape[0]) // batch_size\n",
        "\n",
        "  i=0\n",
        "  for i in range(n_batches + 1):\n",
        "    minibatch = data[ i*batch_size : (i+1)*batch_size , :]\n",
        "    x_batch = minibatch[:, :-1]\n",
        "    y_batch = minibatch[:, :-1].reshape((-1, 1))\n",
        "    minibatches.append((x_batch, y_batch))\n",
        "  if (data.shape[0] % batch_size) != 0:\n",
        "    mini_batch = data[i * batch_size : data.shape[0]]\n",
        "    x_mini = minibatch[:, :-1]\n",
        "    y_mini = minibatch[:, -1].reshape((-1, 1))\n",
        "    minibatches.append((x_batch, y_batch))\n",
        "  return np.array(minibatches)"
      ]
    },
    {
      "cell_type": "code",
      "execution_count": null,
      "metadata": {
        "id": "WL6rAIRUQy_p"
      },
      "outputs": [],
      "source": [
        "def bsgd(x, y, alpha, iter, batch_size):                           # iter: num of iterations; alpha: learning rate\n",
        "  m = len(y)\n",
        "  j_list = []\n",
        "  b, w = theta_init(x)\n",
        "\n",
        "  for i in range(iter):\n",
        "    minibatches = create_minibatches(x, y, batch_size)\n",
        "    \n",
        "    for minibatch in minibatches:\n",
        "      x_batch, y_batch = minibatch\n",
        "      loss = calc_loss(x_batch, y_batch, b, w)\n",
        "      x_batch_trans = np.transpose(x_batch)\n",
        "      b = b - ( alpha * np.sum( loss ) ) / m\n",
        "      w = w - ( alpha * ( np.dot( x_batch_trans, loss ) ) ) / m\n",
        "      j_list.append(compute_cost(x_batch, y_batch, b, w))\n",
        "\n",
        "  j_values = np.array(j_list)\n",
        "\n",
        "  return j_values, b, w"
      ]
    },
    {
      "cell_type": "markdown",
      "metadata": {
        "id": "UmZwG9mbZSeb"
      },
      "source": [
        "# Fitting on train data Using Gradient Descent"
      ]
    },
    {
      "cell_type": "code",
      "execution_count": null,
      "metadata": {
        "colab": {
          "background_save": true
        },
        "id": "X6IChxxEtKp4"
      },
      "outputs": [],
      "source": [
        "iter = 10000000\n",
        "alpha = 0.0000015\n",
        "j_train, b, w = grad_desc(x_train, y_train, alpha, iter)"
      ]
    },
    {
      "cell_type": "code",
      "execution_count": null,
      "metadata": {
        "colab": {
          "background_save": true
        },
        "id": "yXLN8G6bgAn0"
      },
      "outputs": [],
      "source": [
        "def plot_cost():\n",
        "  plt.title('Cost Funtion: J_train')\n",
        "  plt.xlabel('No. of iterations ->')\n",
        "  plt.ylabel('Cost: j_train ->')\n",
        "  plt.plot(j_train)\n",
        "  plt.show()"
      ]
    },
    {
      "cell_type": "code",
      "execution_count": null,
      "metadata": {
        "colab": {
          "background_save": true
        },
        "id": "FmKNqpYp-lkH",
        "outputId": "b4aa22f0-82bf-494e-bf49-3dd2090a7591"
      },
      "outputs": [
        {
          "data": {
            "image/png": "[encoded data removed]",
            "text/plain": [
              "<Figure size 432x288 with 1 Axes>"
            ]
          },
          "metadata": {},
          "output_type": "display_data"
        }
      ],
      "source": [
        "plot_cost()"
      ]
    },
    {
      "cell_type": "code",
      "execution_count": null,
      "metadata": {
        "colab": {
          "background_save": true
        },
        "id": "-MVUivb2X8Gq",
        "outputId": "aaa8b026-9654-4a90-f51b-60ec7c41cd55"
      },
      "outputs": [
        {
          "data": {
            "text/plain": [
              "0.184853970873117"
            ]
          },
          "execution_count": null,
          "metadata": {},
          "output_type": "execute_result"
        }
      ],
      "source": [
        "j_train[iter-1]"
      ]
    },
    {
      "cell_type": "code",
      "execution_count": null,
      "metadata": {
        "colab": {
          "background_save": true
        },
        "id": "s-U33boQDhc4",
        "outputId": "bf7faf81-b902-4e8e-ef28-c775bb74d554"
      },
      "outputs": [
        {
          "data": {
            "text/plain": [
              "-2.3917462646670985e-15"
            ]
          },
          "execution_count": null,
          "metadata": {},
          "output_type": "execute_result"
        }
      ],
      "source": [
        "b"
      ]
    },
    {
      "cell_type": "code",
      "execution_count": null,
      "metadata": {
        "colab": {
          "background_save": true
        },
        "id": "A4DGi1XzDllO",
        "outputId": "006430ee-5fbf-412a-da0a-98a8e76a9b7e"
      },
      "outputs": [
        {
          "data": {
            "text/plain": [
              "array([-4.67159365e-01, -4.82038890e-01,  2.67871788e-02, -2.40107640e-04,\n",
              "        2.02996738e-03, -6.91311658e-04,  1.46337816e-03,  8.05380017e-01])"
            ]
          },
          "execution_count": null,
          "metadata": {},
          "output_type": "execute_result"
        }
      ],
      "source": [
        "w"
      ]
    },
    {
      "cell_type": "markdown",
      "metadata": {
        "id": "U79kfd4oht5U"
      },
      "source": [
        "# Verification on Test Data"
      ]
    },
    {
      "cell_type": "markdown",
      "metadata": {
        "id": "Vjer2b7oKSrQ"
      },
      "source": [
        "##R2 Error"
      ]
    },
    {
      "cell_type": "code",
      "execution_count": null,
      "metadata": {
        "colab": {
          "background_save": true
        },
        "id": "v0gKNNJo6yOi"
      },
      "outputs": [],
      "source": [
        "def calc_rsq(y_pred, y):\n",
        "  m = len(y_pred)\n",
        "  y_avg = np.sum(y)/m\n",
        "  total_error = np.sum((y - y_avg)**2)\n",
        "  residual_error = np.sum((y - y_pred)**2)\n",
        "  rsq = 1 - ( residual_error / total_error )\n",
        "  return rsq"
      ]
    },
    {
      "cell_type": "markdown",
      "metadata": {
        "id": "RgzmYyGrBPps"
      },
      "source": [
        "## Calculate R2 Error for Test Data"
      ]
    },
    {
      "cell_type": "code",
      "execution_count": null,
      "metadata": {
        "colab": {
          "background_save": true
        },
        "id": "a63XwijYBalT",
        "outputId": "f7835437-5587-4f3e-c678-9d1b31b06dd7"
      },
      "outputs": [
        {
          "data": {
            "text/plain": [
              "array([ 1.17020338,  0.06209129,  0.57409911, ..., -1.0418487 ,\n",
              "       -0.37658134,  2.10709686])"
            ]
          },
          "execution_count": null,
          "metadata": {},
          "output_type": "execute_result"
        }
      ],
      "source": [
        "y_test_pred = predict_output(x_test, b, w)\n",
        "y_test_pred"
      ]
    },
    {
      "cell_type": "code",
      "execution_count": null,
      "metadata": {
        "colab": {
          "background_save": true
        },
        "id": "sfteA5_1B_cd",
        "outputId": "72d782de-c3ab-4883-e237-2141501f89bd"
      },
      "outputs": [
        {
          "data": {
            "text/plain": [
              "0.6081174638460969"
            ]
          },
          "execution_count": null,
          "metadata": {},
          "output_type": "execute_result"
        }
      ],
      "source": [
        "rsq = calc_rsq(y_test_pred, y_test)\n",
        "rsq"
      ]
    },
    {
      "cell_type": "markdown",
      "metadata": {
        "id": "m_6OmXQR_YqS"
      },
      "source": [
        "## Residual Plot"
      ]
    },
    {
      "cell_type": "code",
      "execution_count": null,
      "metadata": {
        "colab": {
          "background_save": true
        },
        "id": "Cx2CnFJW_bf8"
      },
      "outputs": [],
      "source": [
        "def residual_plot():\n",
        "  plt.scatter(y_test_pred, y_test_pred - y_test, c='g', s = 40)\n",
        "  plt.hlines(y=0, xmin=-10, xmax=10)\n",
        "  plt.title('Residual plot')\n",
        "  plt.ylabel('Residual')\n",
        "  plt.show()"
      ]
    },
    {
      "cell_type": "code",
      "execution_count": null,
      "metadata": {
        "colab": {
          "background_save": true
        },
        "id": "UzZxBW0sNlZf",
        "outputId": "1e0fd33e-1fdd-40af-998e-bb3e67a34ebe"
      },
      "outputs": [
        {
          "data": {
            "image/png": "[encoded data removed]",
            "text/plain": [
              "<Figure size 432x288 with 1 Axes>"
            ]
          },
          "metadata": {},
          "output_type": "display_data"
        }
      ],
      "source": [
        "residual_plot()"
      ]
    }
  ],
  "metadata": {
    "colab": {
      "collapsed_sections": [
        "_uGbm3rqvhJ_",
        "L2YU0yzmccr8",
        "falmOa23c2Y7",
        "0J-q6bP2LINf",
        "21tQPY2Fese5",
        "GpmDJy0lpB2B",
        "rEoFnh_KHD2a",
        "V0Wgkx4zqiJF",
        "shXqF0y8qy_I",
        "rrcclXIpQf25"
      ],
      "name": "linear_reg_GD_housingdata.ipynb",
      "provenance": []
    },
    "kernelspec": {
      "display_name": "Python 3",
      "name": "python3"
    },
    "language_info": {
      "name": "python"
    }
  },
  "nbformat": 4,
  "nbformat_minor": 0
}